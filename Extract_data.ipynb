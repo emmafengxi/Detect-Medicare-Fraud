{
  "nbformat": 4,
  "nbformat_minor": 0,
  "metadata": {
    "colab": {
      "name": "Extract data.ipynb",
      "provenance": [],
      "collapsed_sections": [],
      "include_colab_link": true
    },
    "kernelspec": {
      "name": "python3",
      "display_name": "Python 3"
    }
  },
  "cells": [
    {
      "cell_type": "markdown",
      "metadata": {
        "id": "view-in-github",
        "colab_type": "text"
      },
      "source": [
        "<a href=\"https://colab.research.google.com/github/emmafengxi/Detect-Medicare-Fraud/blob/master/Extract_data.ipynb\" target=\"_parent\"><img src=\"https://colab.research.google.com/assets/colab-badge.svg\" alt=\"Open In Colab\"/></a>"
      ]
    },
    {
      "cell_type": "code",
      "metadata": {
        "id": "KCUn9xYSyTUX",
        "colab_type": "code",
        "outputId": "0d8d6892-3d83-4461-c130-e912422f5adc",
        "colab": {
          "base_uri": "https://localhost:8080/",
          "height": 34
        }
      },
      "source": [
        "# authenticate access to google cloud bigquery\n",
        "from google.colab import auth\n",
        "from google.cloud import bigquery\n",
        "\n",
        "auth.authenticate_user()\n",
        "print('Authenticated')"
      ],
      "execution_count": 0,
      "outputs": [
        {
          "output_type": "stream",
          "text": [
            "Authenticated\n"
          ],
          "name": "stdout"
        }
      ]
    },
    {
      "cell_type": "code",
      "metadata": {
        "id": "LUzT66XGIh3i",
        "colab_type": "code",
        "outputId": "d88f7130-9f56-4d71-f736-5df84b3db3c4",
        "colab": {
          "base_uri": "https://localhost:8080/",
          "height": 139
        }
      },
      "source": [
        "# access to google drive\n",
        "from google.colab import drive\n",
        "\n",
        "drive.mount('/content/drive')\n",
        "print('Authenticated')"
      ],
      "execution_count": 0,
      "outputs": [
        {
          "output_type": "stream",
          "text": [
            "Go to this URL in a browser: https://accounts.google.com/o/oauth2/auth?client_id=947318989803-6bn6qk8qdgf4n4g3pfee6491hc0brc4i.apps.googleusercontent.com&redirect_uri=urn%3Aietf%3Awg%3Aoauth%3A2.0%3Aoob&scope=email%20https%3A%2F%2Fwww.googleapis.com%2Fauth%2Fdocs.test%20https%3A%2F%2Fwww.googleapis.com%2Fauth%2Fdrive%20https%3A%2F%2Fwww.googleapis.com%2Fauth%2Fdrive.photos.readonly%20https%3A%2F%2Fwww.googleapis.com%2Fauth%2Fpeopleapi.readonly&response_type=code\n",
            "\n",
            "Enter your authorization code:\n",
            "··········\n",
            "Mounted at /content/drive\n",
            "Authenticated\n"
          ],
          "name": "stdout"
        }
      ]
    },
    {
      "cell_type": "code",
      "metadata": {
        "id": "hvd_VMG7oPa5",
        "colab_type": "code",
        "colab": {}
      },
      "source": [
        "import pandas as pd\n",
        "import numpy as np"
      ],
      "execution_count": 0,
      "outputs": []
    },
    {
      "cell_type": "code",
      "metadata": {
        "id": "5joyJuHGGOQL",
        "colab_type": "code",
        "colab": {}
      },
      "source": [
        "# define project\n",
        "project_id = 'medicare-springboard-capstone'\n",
        "proj = bigquery.Client(project=project_id)"
      ],
      "execution_count": 0,
      "outputs": []
    },
    {
      "cell_type": "markdown",
      "metadata": {
        "id": "GYSgOITU-ACC",
        "colab_type": "text"
      },
      "source": [
        "# Explore LEIE: the list of excluded providers\n",
        "\n",
        "---\n",
        "\n",
        "\n",
        "*   Can be fraud or violations of Medicare/Medicaid\n",
        "*   Can be individuals or entities\n",
        "\n",
        "\n"
      ]
    },
    {
      "cell_type": "code",
      "metadata": {
        "id": "zDMGnkJDIJGG",
        "colab_type": "code",
        "outputId": "736096e2-ba17-485b-bfde-c02e1a0ad84a",
        "colab": {
          "base_uri": "https://localhost:8080/",
          "height": 462
        }
      },
      "source": [
        "df_LEIE = pd.read_csv('/content/drive/My Drive/Data Science/Springboard/Data/LEIE.csv')\n",
        "df_LEIE.info()"
      ],
      "execution_count": 0,
      "outputs": [
        {
          "output_type": "stream",
          "text": [
            "<class 'pandas.core.frame.DataFrame'>\n",
            "RangeIndex: 72476 entries, 0 to 72475\n",
            "Data columns (total 18 columns):\n",
            "LASTNAME      69365 non-null object\n",
            "FIRSTNAME     69366 non-null object\n",
            "MIDNAME       72476 non-null object\n",
            "BUSNAME       3108 non-null object\n",
            "GENERAL       72476 non-null object\n",
            "SPECIALTY     68276 non-null object\n",
            "UPIN          6333 non-null object\n",
            "NPI           72476 non-null int64\n",
            "DOB           68499 non-null float64\n",
            "ADDRESS       72467 non-null object\n",
            "CITY          72475 non-null object\n",
            "STATE         72471 non-null object\n",
            "ZIP           72476 non-null int64\n",
            "EXCLTYPE      72476 non-null object\n",
            "EXCLDATE      72476 non-null int64\n",
            "REINDATE      72476 non-null int64\n",
            "WAIVERDATE    72476 non-null int64\n",
            "WVRSTATE      13 non-null object\n",
            "dtypes: float64(1), int64(5), object(12)\n",
            "memory usage: 10.0+ MB\n"
          ],
          "name": "stdout"
        },
        {
          "output_type": "stream",
          "text": [
            "/usr/local/lib/python3.6/dist-packages/IPython/core/interactiveshell.py:2718: DtypeWarning: Columns (3) have mixed types. Specify dtype option on import or set low_memory=False.\n",
            "  interactivity=interactivity, compiler=compiler, result=result)\n"
          ],
          "name": "stderr"
        }
      ]
    },
    {
      "cell_type": "code",
      "metadata": {
        "id": "M0QALYOLIS5q",
        "colab_type": "code",
        "outputId": "84b27e1d-7e46-4efd-cbe2-6d134f3031ac",
        "colab": {
          "base_uri": "https://localhost:8080/",
          "height": 479
        }
      },
      "source": [
        "df_LEIE.head()"
      ],
      "execution_count": 0,
      "outputs": [
        {
          "output_type": "execute_result",
          "data": {
            "text/html": [
              "<div>\n",
              "<style scoped>\n",
              "    .dataframe tbody tr th:only-of-type {\n",
              "        vertical-align: middle;\n",
              "    }\n",
              "\n",
              "    .dataframe tbody tr th {\n",
              "        vertical-align: top;\n",
              "    }\n",
              "\n",
              "    .dataframe thead th {\n",
              "        text-align: right;\n",
              "    }\n",
              "</style>\n",
              "<table border=\"1\" class=\"dataframe\">\n",
              "  <thead>\n",
              "    <tr style=\"text-align: right;\">\n",
              "      <th></th>\n",
              "      <th>LASTNAME</th>\n",
              "      <th>FIRSTNAME</th>\n",
              "      <th>MIDNAME</th>\n",
              "      <th>BUSNAME</th>\n",
              "      <th>GENERAL</th>\n",
              "      <th>SPECIALTY</th>\n",
              "      <th>UPIN</th>\n",
              "      <th>NPI</th>\n",
              "      <th>DOB</th>\n",
              "      <th>ADDRESS</th>\n",
              "      <th>CITY</th>\n",
              "      <th>STATE</th>\n",
              "      <th>ZIP</th>\n",
              "      <th>EXCLTYPE</th>\n",
              "      <th>EXCLDATE</th>\n",
              "      <th>REINDATE</th>\n",
              "      <th>WAIVERDATE</th>\n",
              "      <th>WVRSTATE</th>\n",
              "    </tr>\n",
              "  </thead>\n",
              "  <tbody>\n",
              "    <tr>\n",
              "      <th>0</th>\n",
              "      <td>NaN</td>\n",
              "      <td>NaN</td>\n",
              "      <td></td>\n",
              "      <td>14 LAWRENCE AVE PHARMACY</td>\n",
              "      <td>PHARMACY</td>\n",
              "      <td>NaN</td>\n",
              "      <td>NaN</td>\n",
              "      <td>0</td>\n",
              "      <td>NaN</td>\n",
              "      <td>14 LAWRENCE AVENUE</td>\n",
              "      <td>SMITHTOWN</td>\n",
              "      <td>NY</td>\n",
              "      <td>11787</td>\n",
              "      <td>1128a1</td>\n",
              "      <td>19880830</td>\n",
              "      <td>0</td>\n",
              "      <td>0</td>\n",
              "      <td>NaN</td>\n",
              "    </tr>\n",
              "    <tr>\n",
              "      <th>1</th>\n",
              "      <td>NaN</td>\n",
              "      <td>NaN</td>\n",
              "      <td></td>\n",
              "      <td>143 MEDICAL EQUIPMENT CO</td>\n",
              "      <td>DME COMPANY</td>\n",
              "      <td>DME - OXYGEN</td>\n",
              "      <td>NaN</td>\n",
              "      <td>0</td>\n",
              "      <td>NaN</td>\n",
              "      <td>701 NW 36 AVENUE</td>\n",
              "      <td>MIAMI</td>\n",
              "      <td>FL</td>\n",
              "      <td>33125</td>\n",
              "      <td>1128b7</td>\n",
              "      <td>19970620</td>\n",
              "      <td>0</td>\n",
              "      <td>0</td>\n",
              "      <td>NaN</td>\n",
              "    </tr>\n",
              "    <tr>\n",
              "      <th>2</th>\n",
              "      <td>NaN</td>\n",
              "      <td>NaN</td>\n",
              "      <td></td>\n",
              "      <td>184TH STREET PHARMACY CORP</td>\n",
              "      <td>OTHER BUSINESS</td>\n",
              "      <td>PHARMACY</td>\n",
              "      <td>NaN</td>\n",
              "      <td>1922348218</td>\n",
              "      <td>NaN</td>\n",
              "      <td>69 E 184TH ST</td>\n",
              "      <td>BRONX</td>\n",
              "      <td>NY</td>\n",
              "      <td>10468</td>\n",
              "      <td>1128a1</td>\n",
              "      <td>20180419</td>\n",
              "      <td>0</td>\n",
              "      <td>0</td>\n",
              "      <td>NaN</td>\n",
              "    </tr>\n",
              "    <tr>\n",
              "      <th>3</th>\n",
              "      <td>NaN</td>\n",
              "      <td>NaN</td>\n",
              "      <td></td>\n",
              "      <td>1951 FLATBUSH AVENUE PHARMACY</td>\n",
              "      <td>PHARMACY</td>\n",
              "      <td>NaN</td>\n",
              "      <td>NaN</td>\n",
              "      <td>0</td>\n",
              "      <td>NaN</td>\n",
              "      <td>1951 FLATBUSH AVE</td>\n",
              "      <td>BROOKLYN</td>\n",
              "      <td>NY</td>\n",
              "      <td>11234</td>\n",
              "      <td>1128b5</td>\n",
              "      <td>20090319</td>\n",
              "      <td>0</td>\n",
              "      <td>0</td>\n",
              "      <td>NaN</td>\n",
              "    </tr>\n",
              "    <tr>\n",
              "      <th>4</th>\n",
              "      <td>NaN</td>\n",
              "      <td>NaN</td>\n",
              "      <td></td>\n",
              "      <td>1ST COMMUNITY HEALTH CTR, LTD</td>\n",
              "      <td>CLINIC</td>\n",
              "      <td>NaN</td>\n",
              "      <td>NaN</td>\n",
              "      <td>0</td>\n",
              "      <td>NaN</td>\n",
              "      <td>3138 W CERMAK ROAD</td>\n",
              "      <td>CHICAGO</td>\n",
              "      <td>IL</td>\n",
              "      <td>60623</td>\n",
              "      <td>1128a1</td>\n",
              "      <td>19940524</td>\n",
              "      <td>0</td>\n",
              "      <td>0</td>\n",
              "      <td>NaN</td>\n",
              "    </tr>\n",
              "  </tbody>\n",
              "</table>\n",
              "</div>"
            ],
            "text/plain": [
              "  LASTNAME FIRSTNAME MIDNAME  ... REINDATE WAIVERDATE WVRSTATE\n",
              "0      NaN       NaN          ...        0          0      NaN\n",
              "1      NaN       NaN          ...        0          0      NaN\n",
              "2      NaN       NaN          ...        0          0      NaN\n",
              "3      NaN       NaN          ...        0          0      NaN\n",
              "4      NaN       NaN          ...        0          0      NaN\n",
              "\n",
              "[5 rows x 18 columns]"
            ]
          },
          "metadata": {
            "tags": []
          },
          "execution_count": 10
        }
      ]
    },
    {
      "cell_type": "code",
      "metadata": {
        "id": "teh50AkZ2A7M",
        "colab_type": "code",
        "colab": {}
      },
      "source": [
        "# from the provider dataset below, the following are the top 4 states in terms of the number of providers: 'CA', 'FL', 'TX', 'NY'\n",
        "# extract data from these 4 states and 'TN': \n",
        "df_LEIE_5s = df_LEIE[df_LEIE.STATE.isin(['CA', 'FL', 'TX', 'NY', 'TN'])]\n",
        "df_LEIE_5s.shape\n",
        "\n",
        "# save data to google drive\n",
        "df_LEIE_5s.to_csv('LEIE_5S.csv')\n",
        "!cp LEIE_5S.csv /content/drive/My\\ Drive/Data\\ Science/Springboard/Data"
      ],
      "execution_count": 0,
      "outputs": []
    },
    {
      "cell_type": "code",
      "metadata": {
        "id": "VbeExk85uazL",
        "colab_type": "code",
        "outputId": "486aab8f-5c25-4a5e-a74c-11e4ed60be12",
        "colab": {
          "base_uri": "https://localhost:8080/",
          "height": 34
        }
      },
      "source": [
        "# extract TN data\n",
        "df_LEIE_TN = df_LEIE_5s[df_LEIE_5s.STATE == 'TN']\n",
        "print(df_LEIE_TN.shape)\n",
        "\n",
        "# save data to google drive\n",
        "df_LEIE_TN.to_csv('LEIE_TN.csv')\n",
        "!cp LEIE_TN.csv /content/drive/My\\ Drive/Data\\ Science/Springboard/Data"
      ],
      "execution_count": 0,
      "outputs": [
        {
          "output_type": "stream",
          "text": [
            "(1691, 18)\n"
          ],
          "name": "stdout"
        }
      ]
    },
    {
      "cell_type": "code",
      "metadata": {
        "id": "eQRDJ9MHkHgA",
        "colab_type": "code",
        "colab": {}
      },
      "source": [
        ""
      ],
      "execution_count": 0,
      "outputs": []
    },
    {
      "cell_type": "code",
      "metadata": {
        "id": "SV14pJ5x_1OY",
        "colab_type": "code",
        "colab": {}
      },
      "source": [
        ""
      ],
      "execution_count": 0,
      "outputs": []
    },
    {
      "cell_type": "code",
      "metadata": {
        "id": "QRxoDml-bdIb",
        "colab_type": "code",
        "colab": {}
      },
      "source": [
        ""
      ],
      "execution_count": 0,
      "outputs": []
    },
    {
      "cell_type": "code",
      "metadata": {
        "id": "w6ED4lo25D5O",
        "colab_type": "code",
        "colab": {}
      },
      "source": [
        ""
      ],
      "execution_count": 0,
      "outputs": []
    },
    {
      "cell_type": "code",
      "metadata": {
        "id": "emQ-89le-m5s",
        "colab_type": "code",
        "colab": {}
      },
      "source": [
        ""
      ],
      "execution_count": 0,
      "outputs": []
    },
    {
      "cell_type": "markdown",
      "metadata": {
        "id": "a26nIicOBdMi",
        "colab_type": "text"
      },
      "source": [
        "# Explore the provider data\n",
        "\n",
        "---"
      ]
    },
    {
      "cell_type": "code",
      "metadata": {
        "id": "fH3ET49yz7S3",
        "colab_type": "code",
        "outputId": "d78d196d-bee6-495b-a298-b46e88ef083c",
        "colab": {
          "base_uri": "https://localhost:8080/",
          "height": 394
        }
      },
      "source": [
        "%%bigquery --project medicare-springboard-capstone\n",
        "SELECT *\n",
        "  FROM `bigquery-public-data.medicare.physicians_and_other_supplier_2014`\n",
        " LIMIT 5\n"
      ],
      "execution_count": 0,
      "outputs": [
        {
          "output_type": "execute_result",
          "data": {
            "text/html": [
              "<div>\n",
              "<style scoped>\n",
              "    .dataframe tbody tr th:only-of-type {\n",
              "        vertical-align: middle;\n",
              "    }\n",
              "\n",
              "    .dataframe tbody tr th {\n",
              "        vertical-align: top;\n",
              "    }\n",
              "\n",
              "    .dataframe thead th {\n",
              "        text-align: right;\n",
              "    }\n",
              "</style>\n",
              "<table border=\"1\" class=\"dataframe\">\n",
              "  <thead>\n",
              "    <tr style=\"text-align: right;\">\n",
              "      <th></th>\n",
              "      <th>npi</th>\n",
              "      <th>nppes_provider_last_org_name</th>\n",
              "      <th>nppes_provider_first_name</th>\n",
              "      <th>nppes_provider_mi</th>\n",
              "      <th>nppes_credentials</th>\n",
              "      <th>nppes_provider_gender</th>\n",
              "      <th>nppes_entity_code</th>\n",
              "      <th>nppes_provider_street1</th>\n",
              "      <th>nppes_provider_street2</th>\n",
              "      <th>nppes_provider_city</th>\n",
              "      <th>nppes_provider_zip</th>\n",
              "      <th>nppes_provider_state</th>\n",
              "      <th>nppes_provider_country</th>\n",
              "      <th>provider_type</th>\n",
              "      <th>medicare_participation_indicator</th>\n",
              "      <th>place_of_service</th>\n",
              "      <th>hcpcs_code</th>\n",
              "      <th>hcpcs_description</th>\n",
              "      <th>hcpcs_drug_indicator</th>\n",
              "      <th>line_srvc_cnt</th>\n",
              "      <th>bene_unique_cnt</th>\n",
              "      <th>bene_day_srvc_cnt</th>\n",
              "      <th>average_medicare_allowed_amt</th>\n",
              "      <th>average_submitted_chrg_amt</th>\n",
              "      <th>average_medicare_payment_amt</th>\n",
              "      <th>average_medicare_standard_amt</th>\n",
              "    </tr>\n",
              "  </thead>\n",
              "  <tbody>\n",
              "    <tr>\n",
              "      <th>0</th>\n",
              "      <td>1780752352</td>\n",
              "      <td>PREMIER SURGERY CENTER OF SANTA MARIA</td>\n",
              "      <td></td>\n",
              "      <td></td>\n",
              "      <td></td>\n",
              "      <td></td>\n",
              "      <td>O</td>\n",
              "      <td>816 EAST ENOS DRIVE</td>\n",
              "      <td>B</td>\n",
              "      <td>SANTA MARIA</td>\n",
              "      <td>93454</td>\n",
              "      <td>CA</td>\n",
              "      <td>US</td>\n",
              "      <td>Ambulatory Surgical Center</td>\n",
              "      <td>Y</td>\n",
              "      <td>F</td>\n",
              "      <td>0191T</td>\n",
              "      <td>Internal insertion of eye fluid drainage device</td>\n",
              "      <td>N</td>\n",
              "      <td>66.0</td>\n",
              "      <td>42</td>\n",
              "      <td>66</td>\n",
              "      <td>1914.900000</td>\n",
              "      <td>8901.515151</td>\n",
              "      <td>1500.324242</td>\n",
              "      <td>1314.514242</td>\n",
              "    </tr>\n",
              "    <tr>\n",
              "      <th>1</th>\n",
              "      <td>1578567954</td>\n",
              "      <td>E. RONALD SALVITTI, M.D., INC.</td>\n",
              "      <td></td>\n",
              "      <td></td>\n",
              "      <td></td>\n",
              "      <td></td>\n",
              "      <td>O</td>\n",
              "      <td>750 E BEAU ST</td>\n",
              "      <td></td>\n",
              "      <td>WASHINGTON</td>\n",
              "      <td>153016661</td>\n",
              "      <td>PA</td>\n",
              "      <td>US</td>\n",
              "      <td>Ambulatory Surgical Center</td>\n",
              "      <td>Y</td>\n",
              "      <td>F</td>\n",
              "      <td>0191T</td>\n",
              "      <td>Internal insertion of eye fluid drainage device</td>\n",
              "      <td>N</td>\n",
              "      <td>25.0</td>\n",
              "      <td>14</td>\n",
              "      <td>25</td>\n",
              "      <td>1566.240000</td>\n",
              "      <td>2000.000000</td>\n",
              "      <td>1227.930000</td>\n",
              "      <td>1308.466800</td>\n",
              "    </tr>\n",
              "    <tr>\n",
              "      <th>2</th>\n",
              "      <td>1821074485</td>\n",
              "      <td>SURGERY CENTER OF FARMINGTON, L.L.C.</td>\n",
              "      <td></td>\n",
              "      <td></td>\n",
              "      <td></td>\n",
              "      <td></td>\n",
              "      <td>O</td>\n",
              "      <td>400 PARKLAND DR</td>\n",
              "      <td></td>\n",
              "      <td>FARMINGTON</td>\n",
              "      <td>636402906</td>\n",
              "      <td>MO</td>\n",
              "      <td>US</td>\n",
              "      <td>Ambulatory Surgical Center</td>\n",
              "      <td>Y</td>\n",
              "      <td>F</td>\n",
              "      <td>0191T</td>\n",
              "      <td>Internal insertion of eye fluid drainage device</td>\n",
              "      <td>N</td>\n",
              "      <td>51.0</td>\n",
              "      <td>32</td>\n",
              "      <td>51</td>\n",
              "      <td>1491.230000</td>\n",
              "      <td>7456.150000</td>\n",
              "      <td>1169.120000</td>\n",
              "      <td>1315.470000</td>\n",
              "    </tr>\n",
              "    <tr>\n",
              "      <th>3</th>\n",
              "      <td>1770581829</td>\n",
              "      <td>PHYSICIANS' SURGERY CENTER, LLC</td>\n",
              "      <td></td>\n",
              "      <td></td>\n",
              "      <td></td>\n",
              "      <td></td>\n",
              "      <td>O</td>\n",
              "      <td>3840 W 75TH ST</td>\n",
              "      <td></td>\n",
              "      <td>PRAIRIE VILLAGE</td>\n",
              "      <td>662084126</td>\n",
              "      <td>KS</td>\n",
              "      <td>US</td>\n",
              "      <td>Ambulatory Surgical Center</td>\n",
              "      <td>Y</td>\n",
              "      <td>F</td>\n",
              "      <td>0191T</td>\n",
              "      <td>Internal insertion of eye fluid drainage device</td>\n",
              "      <td>N</td>\n",
              "      <td>14.0</td>\n",
              "      <td>11</td>\n",
              "      <td>14</td>\n",
              "      <td>1563.564286</td>\n",
              "      <td>11471.250000</td>\n",
              "      <td>1225.840714</td>\n",
              "      <td>1315.470714</td>\n",
              "    </tr>\n",
              "    <tr>\n",
              "      <th>4</th>\n",
              "      <td>1043216617</td>\n",
              "      <td>TRIAD EYE INSTITUTE PLLC</td>\n",
              "      <td></td>\n",
              "      <td></td>\n",
              "      <td></td>\n",
              "      <td></td>\n",
              "      <td>O</td>\n",
              "      <td>3131 MILITARY BLVD</td>\n",
              "      <td></td>\n",
              "      <td>MUSKOGEE</td>\n",
              "      <td>744012290</td>\n",
              "      <td>OK</td>\n",
              "      <td>US</td>\n",
              "      <td>Ambulatory Surgical Center</td>\n",
              "      <td>Y</td>\n",
              "      <td>F</td>\n",
              "      <td>0191T</td>\n",
              "      <td>Internal insertion of eye fluid drainage device</td>\n",
              "      <td>N</td>\n",
              "      <td>34.0</td>\n",
              "      <td>23</td>\n",
              "      <td>34</td>\n",
              "      <td>1485.280000</td>\n",
              "      <td>2275.000000</td>\n",
              "      <td>1100.073235</td>\n",
              "      <td>1334.536471</td>\n",
              "    </tr>\n",
              "  </tbody>\n",
              "</table>\n",
              "</div>"
            ],
            "text/plain": [
              "          npi  ... average_medicare_standard_amt\n",
              "0  1780752352  ...                   1314.514242\n",
              "1  1578567954  ...                   1308.466800\n",
              "2  1821074485  ...                   1315.470000\n",
              "3  1770581829  ...                   1315.470714\n",
              "4  1043216617  ...                   1334.536471\n",
              "\n",
              "[5 rows x 26 columns]"
            ]
          },
          "metadata": {
            "tags": []
          },
          "execution_count": 84
        }
      ]
    },
    {
      "cell_type": "code",
      "metadata": {
        "id": "fyTeDdFMMvrq",
        "colab_type": "code",
        "outputId": "dcf48ed5-9068-4f9f-e228-cea4bd438317",
        "colab": {
          "base_uri": "https://localhost:8080/",
          "height": 793
        }
      },
      "source": [
        "# found a country variable, check any providers outsider of US?\n",
        "%%bigquery --project medicare-springboard-capstone\n",
        "SELECT nppes_provider_country AS providers_country,\n",
        "       COUNT(*) AS total_providers_per_country\n",
        "  FROM `bigquery-public-data.medicare.physicians_and_other_supplier_2014`\n",
        " GROUP BY nppes_provider_country\n",
        " # I will omit providers outsider of US"
      ],
      "execution_count": 0,
      "outputs": [
        {
          "output_type": "execute_result",
          "data": {
            "text/html": [
              "<div>\n",
              "<style scoped>\n",
              "    .dataframe tbody tr th:only-of-type {\n",
              "        vertical-align: middle;\n",
              "    }\n",
              "\n",
              "    .dataframe tbody tr th {\n",
              "        vertical-align: top;\n",
              "    }\n",
              "\n",
              "    .dataframe thead th {\n",
              "        text-align: right;\n",
              "    }\n",
              "</style>\n",
              "<table border=\"1\" class=\"dataframe\">\n",
              "  <thead>\n",
              "    <tr style=\"text-align: right;\">\n",
              "      <th></th>\n",
              "      <th>providers_country</th>\n",
              "      <th>total_providers_per_country</th>\n",
              "    </tr>\n",
              "  </thead>\n",
              "  <tbody>\n",
              "    <tr>\n",
              "      <th>0</th>\n",
              "      <td>VE</td>\n",
              "      <td>13</td>\n",
              "    </tr>\n",
              "    <tr>\n",
              "      <th>1</th>\n",
              "      <td>GR</td>\n",
              "      <td>8</td>\n",
              "    </tr>\n",
              "    <tr>\n",
              "      <th>2</th>\n",
              "      <td>KR</td>\n",
              "      <td>35</td>\n",
              "    </tr>\n",
              "    <tr>\n",
              "      <th>3</th>\n",
              "      <td>CA</td>\n",
              "      <td>29</td>\n",
              "    </tr>\n",
              "    <tr>\n",
              "      <th>4</th>\n",
              "      <td>AE</td>\n",
              "      <td>9</td>\n",
              "    </tr>\n",
              "    <tr>\n",
              "      <th>5</th>\n",
              "      <td>IT</td>\n",
              "      <td>6</td>\n",
              "    </tr>\n",
              "    <tr>\n",
              "      <th>6</th>\n",
              "      <td>KW</td>\n",
              "      <td>6</td>\n",
              "    </tr>\n",
              "    <tr>\n",
              "      <th>7</th>\n",
              "      <td>IL</td>\n",
              "      <td>4</td>\n",
              "    </tr>\n",
              "    <tr>\n",
              "      <th>8</th>\n",
              "      <td>AU</td>\n",
              "      <td>8</td>\n",
              "    </tr>\n",
              "    <tr>\n",
              "      <th>9</th>\n",
              "      <td>JP</td>\n",
              "      <td>56</td>\n",
              "    </tr>\n",
              "    <tr>\n",
              "      <th>10</th>\n",
              "      <td>AR</td>\n",
              "      <td>8</td>\n",
              "    </tr>\n",
              "    <tr>\n",
              "      <th>11</th>\n",
              "      <td>IN</td>\n",
              "      <td>34</td>\n",
              "    </tr>\n",
              "    <tr>\n",
              "      <th>12</th>\n",
              "      <td>TR</td>\n",
              "      <td>38</td>\n",
              "    </tr>\n",
              "    <tr>\n",
              "      <th>13</th>\n",
              "      <td>US</td>\n",
              "      <td>9315906</td>\n",
              "    </tr>\n",
              "    <tr>\n",
              "      <th>14</th>\n",
              "      <td>GB</td>\n",
              "      <td>23</td>\n",
              "    </tr>\n",
              "    <tr>\n",
              "      <th>15</th>\n",
              "      <td>PK</td>\n",
              "      <td>24</td>\n",
              "    </tr>\n",
              "    <tr>\n",
              "      <th>16</th>\n",
              "      <td>DE</td>\n",
              "      <td>64</td>\n",
              "    </tr>\n",
              "    <tr>\n",
              "      <th>17</th>\n",
              "      <td>NL</td>\n",
              "      <td>5</td>\n",
              "    </tr>\n",
              "    <tr>\n",
              "      <th>18</th>\n",
              "      <td>NO</td>\n",
              "      <td>4</td>\n",
              "    </tr>\n",
              "    <tr>\n",
              "      <th>19</th>\n",
              "      <td>SA</td>\n",
              "      <td>16</td>\n",
              "    </tr>\n",
              "    <tr>\n",
              "      <th>20</th>\n",
              "      <td>TH</td>\n",
              "      <td>3</td>\n",
              "    </tr>\n",
              "    <tr>\n",
              "      <th>21</th>\n",
              "      <td>KP</td>\n",
              "      <td>2</td>\n",
              "    </tr>\n",
              "    <tr>\n",
              "      <th>22</th>\n",
              "      <td>FR</td>\n",
              "      <td>4</td>\n",
              "    </tr>\n",
              "    <tr>\n",
              "      <th>23</th>\n",
              "      <td>IS</td>\n",
              "      <td>2</td>\n",
              "    </tr>\n",
              "  </tbody>\n",
              "</table>\n",
              "</div>"
            ],
            "text/plain": [
              "   providers_country  total_providers_per_country\n",
              "0                 VE                           13\n",
              "1                 GR                            8\n",
              "2                 KR                           35\n",
              "3                 CA                           29\n",
              "4                 AE                            9\n",
              "5                 IT                            6\n",
              "6                 KW                            6\n",
              "7                 IL                            4\n",
              "8                 AU                            8\n",
              "9                 JP                           56\n",
              "10                AR                            8\n",
              "11                IN                           34\n",
              "12                TR                           38\n",
              "13                US                      9315906\n",
              "14                GB                           23\n",
              "15                PK                           24\n",
              "16                DE                           64\n",
              "17                NL                            5\n",
              "18                NO                            4\n",
              "19                SA                           16\n",
              "20                TH                            3\n",
              "21                KP                            2\n",
              "22                FR                            4\n",
              "23                IS                            2"
            ]
          },
          "metadata": {
            "tags": []
          },
          "execution_count": 86
        }
      ]
    },
    {
      "cell_type": "code",
      "metadata": {
        "id": "4TAq1qU7M0qq",
        "colab_type": "code",
        "outputId": "d7d6f9d8-3d5e-4259-acc1-31c669fb27e8",
        "colab": {
          "base_uri": "https://localhost:8080/",
          "height": 359
        }
      },
      "source": [
        "# check counts of providers for each state\n",
        "%%bigquery --project medicare-springboard-capstone\n",
        "SELECT nppes_provider_state AS providers_state,\n",
        "       COUNT(*) AS total_providers_per_state\n",
        "  FROM `bigquery-public-data.medicare.physicians_and_other_supplier_2014`\n",
        " WHERE nppes_provider_country = 'US'\n",
        " GROUP BY nppes_provider_state\n",
        " ORDER BY 2 DESC\n",
        " LIMIT 10\n",
        "# I will limit my analysis to the following states: CA, FL, TX, NY, TN"
      ],
      "execution_count": 0,
      "outputs": [
        {
          "output_type": "execute_result",
          "data": {
            "text/html": [
              "<div>\n",
              "<style scoped>\n",
              "    .dataframe tbody tr th:only-of-type {\n",
              "        vertical-align: middle;\n",
              "    }\n",
              "\n",
              "    .dataframe tbody tr th {\n",
              "        vertical-align: top;\n",
              "    }\n",
              "\n",
              "    .dataframe thead th {\n",
              "        text-align: right;\n",
              "    }\n",
              "</style>\n",
              "<table border=\"1\" class=\"dataframe\">\n",
              "  <thead>\n",
              "    <tr style=\"text-align: right;\">\n",
              "      <th></th>\n",
              "      <th>providers_state</th>\n",
              "      <th>total_providers_per_state</th>\n",
              "    </tr>\n",
              "  </thead>\n",
              "  <tbody>\n",
              "    <tr>\n",
              "      <th>0</th>\n",
              "      <td>CA</td>\n",
              "      <td>722404</td>\n",
              "    </tr>\n",
              "    <tr>\n",
              "      <th>1</th>\n",
              "      <td>FL</td>\n",
              "      <td>686363</td>\n",
              "    </tr>\n",
              "    <tr>\n",
              "      <th>2</th>\n",
              "      <td>TX</td>\n",
              "      <td>634518</td>\n",
              "    </tr>\n",
              "    <tr>\n",
              "      <th>3</th>\n",
              "      <td>NY</td>\n",
              "      <td>596114</td>\n",
              "    </tr>\n",
              "    <tr>\n",
              "      <th>4</th>\n",
              "      <td>PA</td>\n",
              "      <td>412966</td>\n",
              "    </tr>\n",
              "    <tr>\n",
              "      <th>5</th>\n",
              "      <td>IL</td>\n",
              "      <td>383620</td>\n",
              "    </tr>\n",
              "    <tr>\n",
              "      <th>6</th>\n",
              "      <td>OH</td>\n",
              "      <td>342838</td>\n",
              "    </tr>\n",
              "    <tr>\n",
              "      <th>7</th>\n",
              "      <td>NC</td>\n",
              "      <td>337521</td>\n",
              "    </tr>\n",
              "    <tr>\n",
              "      <th>8</th>\n",
              "      <td>MI</td>\n",
              "      <td>333817</td>\n",
              "    </tr>\n",
              "    <tr>\n",
              "      <th>9</th>\n",
              "      <td>NJ</td>\n",
              "      <td>317227</td>\n",
              "    </tr>\n",
              "  </tbody>\n",
              "</table>\n",
              "</div>"
            ],
            "text/plain": [
              "  providers_state  total_providers_per_state\n",
              "0              CA                     722404\n",
              "1              FL                     686363\n",
              "2              TX                     634518\n",
              "3              NY                     596114\n",
              "4              PA                     412966\n",
              "5              IL                     383620\n",
              "6              OH                     342838\n",
              "7              NC                     337521\n",
              "8              MI                     333817\n",
              "9              NJ                     317227"
            ]
          },
          "metadata": {
            "tags": []
          },
          "execution_count": 85
        }
      ]
    },
    {
      "cell_type": "code",
      "metadata": {
        "id": "1I7IaVDECyQu",
        "colab_type": "code",
        "colab": {}
      },
      "source": [
        "df_p2014 = proj.query('''\n",
        "  SELECT *\n",
        "    FROM `bigquery-public-data.medicare.physicians_and_other_supplier_2014`\n",
        "   WHERE nppes_provider_state IN ('TN')\n",
        "  ''').to_dataframe()"
      ],
      "execution_count": 0,
      "outputs": []
    },
    {
      "cell_type": "code",
      "metadata": {
        "id": "-iUm3RCVJDPE",
        "colab_type": "code",
        "outputId": "75d42344-7a7b-437c-e82f-4f8d06ee0d77",
        "colab": {
          "base_uri": "https://localhost:8080/",
          "height": 544
        }
      },
      "source": [
        "df_p2014.info()"
      ],
      "execution_count": 0,
      "outputs": [
        {
          "output_type": "stream",
          "text": [
            "<class 'pandas.core.frame.DataFrame'>\n",
            "RangeIndex: 255311 entries, 0 to 255310\n",
            "Data columns (total 26 columns):\n",
            "npi                                 255311 non-null int64\n",
            "nppes_provider_last_org_name        255311 non-null object\n",
            "nppes_provider_first_name           255311 non-null object\n",
            "nppes_provider_mi                   255311 non-null object\n",
            "nppes_credentials                   255311 non-null object\n",
            "nppes_provider_gender               255311 non-null object\n",
            "nppes_entity_code                   255311 non-null object\n",
            "nppes_provider_street1              255311 non-null object\n",
            "nppes_provider_street2              255311 non-null object\n",
            "nppes_provider_city                 255311 non-null object\n",
            "nppes_provider_zip                  255311 non-null object\n",
            "nppes_provider_state                255311 non-null object\n",
            "nppes_provider_country              255311 non-null object\n",
            "provider_type                       255311 non-null object\n",
            "medicare_participation_indicator    255311 non-null object\n",
            "place_of_service                    255311 non-null object\n",
            "hcpcs_code                          255311 non-null object\n",
            "hcpcs_description                   255311 non-null object\n",
            "hcpcs_drug_indicator                255311 non-null object\n",
            "line_srvc_cnt                       255311 non-null float64\n",
            "bene_unique_cnt                     255311 non-null int64\n",
            "bene_day_srvc_cnt                   255311 non-null int64\n",
            "average_medicare_allowed_amt        255311 non-null float64\n",
            "average_submitted_chrg_amt          255311 non-null float64\n",
            "average_medicare_payment_amt        255311 non-null float64\n",
            "average_medicare_standard_amt       255311 non-null float64\n",
            "dtypes: float64(5), int64(3), object(18)\n",
            "memory usage: 50.6+ MB\n"
          ],
          "name": "stdout"
        }
      ]
    },
    {
      "cell_type": "code",
      "metadata": {
        "id": "LfjYTjpQCIU9",
        "colab_type": "code",
        "colab": {}
      },
      "source": [
        "df_p2014.to_csv('Provider2014_TN.csv', index=False)\n",
        "!cp Provider2014_TN.csv /content/drive/My\\ Drive/Data\\ Science/Springboard/Data"
      ],
      "execution_count": 0,
      "outputs": []
    },
    {
      "cell_type": "code",
      "metadata": {
        "id": "6QKHfbiUSGNi",
        "colab_type": "code",
        "colab": {}
      },
      "source": [
        "df_p2014 = proj.query('''\n",
        "  SELECT *\n",
        "    FROM `bigquery-public-data.medicare.physicians_and_other_supplier_2014`\n",
        "   WHERE nppes_provider_state IN ('CA', 'FL', 'TX', 'NY', 'TN')\n",
        "  ''').to_dataframe()\n",
        "\n",
        "df_p2014.to_csv('Provider2014_5S.csv', index=False)\n",
        "!cp Provider2014_5S.csv /content/drive/My\\ Drive/Data\\ Science/Springboard/Data"
      ],
      "execution_count": 0,
      "outputs": []
    },
    {
      "cell_type": "code",
      "metadata": {
        "id": "4BzwktHkSZfv",
        "colab_type": "code",
        "colab": {}
      },
      "source": [
        ""
      ],
      "execution_count": 0,
      "outputs": []
    }
  ]
}